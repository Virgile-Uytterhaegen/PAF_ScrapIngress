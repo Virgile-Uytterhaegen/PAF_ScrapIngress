{
 "cells": [
  {
   "cell_type": "code",
   "execution_count": 3,
   "metadata": {
    "collapsed": true
   },
   "outputs": [],
   "source": [
    "# En-tete\n",
    "\n",
    "import os\n",
    "os.chdir(\"/cal/homes/arenault/workspace/PAF_ScrapIngress\")\n",
    "import csv\n",
    "import math as m\n",
    "import time"
   ]
  },
  {
   "cell_type": "code",
   "execution_count": 4,
   "metadata": {
    "collapsed": false
   },
   "outputs": [
    {
     "data": {
      "text/plain": [
       "['48.870212', '2.347822']"
      ]
     },
     "execution_count": 4,
     "metadata": {},
     "output_type": "execute_result"
    }
   ],
   "source": [
    "# Recuperation des coordonnees d'un portail\n",
    "\n",
    "ficIn = 'portails.csv'\n",
    "portalId = 127\n",
    "\n",
    "def portalFinder(ficIn,portalId):\n",
    "    with open(ficIn,'r') as fic:\n",
    "        csv_reader = csv.reader(fic,delimiter = ';')\n",
    "        for line in csv_reader:\n",
    "            #print(portalId,)\n",
    "            if (int(line[1]) == portalId):\n",
    "                return line[0].split(',')              # On extrait les coordonnees du portail \n",
    "        return []                                      # si le portail n'est pas trouvé on renvoie une liste vide\n",
    "\n",
    "portalFinder(ficIn,portalId)"
   ]
  },
  {
   "cell_type": "code",
   "execution_count": 5,
   "metadata": {
    "collapsed": false
   },
   "outputs": [],
   "source": [
    "# Recuperation de la liste des points visités par un joueur\n",
    "\n",
    "# La periode est donnee en jour et sera convertie en secondes par la fonction.\n",
    "# Repetition est le nombre de periode que l'on veut analyser.\n",
    "\n",
    "\n",
    "def playerVisitedLocations(joueurId,period,repetition):\n",
    "    period = period*24*3600\n",
    "    with open('Actions_triees_par_joueur/'+str(joueurId)+'.csv','r') as to_read:\n",
    "        csv_reader = csv.reader(to_read,delimiter = ';')\n",
    "        visitedLocations = {}\n",
    "        first_line = True\n",
    "        for line in csv_reader:\n",
    "            if first_line:                                   #traitement particulier de la premiere ligne\n",
    "                initial_timestamp = int(line[0])\n",
    "                final_timestamp = initial_timestamp + period\n",
    "                first_line = False\n",
    "            if repetition:\n",
    "                if (final_timestamp < int(line[0])):         #on atteint la fin de la semaine, on sauvegarde et on réinitialise\n",
    "                    save('j'+str(joueurId)+'_week'+str(repetition),visitedLocations)\n",
    "                    repetition -= 1\n",
    "                    final_timestamp += period\n",
    "                    visitedLocations = {}\n",
    "                    \n",
    "                currentLocations = [line[4]]\n",
    "                if (len(line)==6):\n",
    "                    currentLocations.append(line[5])\n",
    "                for loc in currentLocations:\n",
    "                    if not loc in visitedLocations:\n",
    "                        visitedLocations[loc] = (line[0],1)\n",
    "                    else:\n",
    "                        visitedLocations[loc] = (visitedLocations[loc][0],visitedLocations[loc][1]+1)\n",
    "                \n"
   ]
  },
  {
   "cell_type": "code",
   "execution_count": 7,
   "metadata": {
    "collapsed": false
   },
   "outputs": [],
   "source": [
    "# Sauvegarde\n",
    "\n",
    "#fic est le fichier de sortie et data le dictionnaire des localisations\n",
    "\n",
    "def save(fic,data):\n",
    "    with open(fic,'w') as to_write:\n",
    "        csv_writer = csv.writer(to_write,delimiter=';')\n",
    "        for x in data:\n",
    "            coord = portalFinder('portails.csv',int(x))\n",
    "            csv_writer.writerow([coord[0],coord[1]])\n"
   ]
  },
  {
   "cell_type": "code",
   "execution_count": 9,
   "metadata": {
    "collapsed": false
   },
   "outputs": [],
   "source": [
    "playerVisitedLocations(1,7,4)"
   ]
  },
  {
   "cell_type": "code",
   "execution_count": 39,
   "metadata": {
    "collapsed": false
   },
   "outputs": [
    {
     "data": {
      "text/plain": [
       "{'1': ('1485781427185', 1),\n",
       " '10': ('1485781433223', 2),\n",
       " '103': ('1485781502235', 2),\n",
       " '127': ('1485781491257', 1),\n",
       " '130': ('1485781494631', 1),\n",
       " '135': ('1485781762355', 1),\n",
       " '143': ('1485781504783', 1),\n",
       " '184': ('1485781542052', 1),\n",
       " '204': ('1485781553985', 1),\n",
       " '25': ('1485781437263', 1),\n",
       " '283': ('1485781648771', 1),\n",
       " '284': ('1485781649027', 1),\n",
       " '287': ('1485781650934', 1),\n",
       " '294': ('1485781663234', 3),\n",
       " '296': ('1485781665708', 3),\n",
       " '302': ('1485781667917', 2),\n",
       " '304': ('1485781669286', 5),\n",
       " '321': ('1485781695649', 2),\n",
       " '323': ('1485781848427', 1),\n",
       " '345': ('1485781787301', 1),\n",
       " '354': ('1485781710999', 1),\n",
       " '357': ('1485781711479', 3),\n",
       " '407': ('1485781756078', 1),\n",
       " '408': ('1485781757432', 1),\n",
       " '426': ('1485781783361', 1),\n",
       " '523': ('1485781852035', 2),\n",
       " '526': ('1485781860500', 2),\n",
       " '528': ('1485781865247', 2),\n",
       " '582': ('1485781917141', 3),\n",
       " '619': ('1485781958931', 1),\n",
       " '70': ('1485781448309', 1)}"
      ]
     },
     "execution_count": 39,
     "metadata": {},
     "output_type": "execute_result"
    }
   ],
   "source": []
  },
  {
   "cell_type": "code",
   "execution_count": null,
   "metadata": {
    "collapsed": true
   },
   "outputs": [],
   "source": []
  }
 ],
 "metadata": {
  "kernelspec": {
   "display_name": "Python 2",
   "language": "python",
   "name": "python2"
  },
  "language_info": {
   "codemirror_mode": {
    "name": "ipython",
    "version": 2
   },
   "file_extension": ".py",
   "mimetype": "text/x-python",
   "name": "python",
   "nbconvert_exporter": "python",
   "pygments_lexer": "ipython2",
   "version": "2.7.12"
  }
 },
 "nbformat": 4,
 "nbformat_minor": 0
}
