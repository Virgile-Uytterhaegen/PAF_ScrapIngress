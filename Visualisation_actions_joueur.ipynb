{
 "cells": [
  {
   "cell_type": "code",
   "execution_count": 3,
   "metadata": {
    "collapsed": true
   },
   "outputs": [],
   "source": [
    "# En-tete\n",
    "\n",
    "import os\n",
    "os.chdir(\"/cal/homes/arenault/workspace/PAF_ScrapIngress\")\n",
    "import csv\n",
    "import math as m\n",
    "import time"
   ]
  },
  {
   "cell_type": "code",
   "execution_count": 4,
   "metadata": {
    "collapsed": false
   },
   "outputs": [
    {
     "data": {
      "text/plain": [
       "['48.870212', '2.347822']"
      ]
     },
     "execution_count": 4,
     "metadata": {},
     "output_type": "execute_result"
    }
   ],
   "source": [
    "# Recuperation des coordonnees d'un portail\n",
    "\n",
    "ficIn = 'portails.csv'\n",
    "portalId = 127\n",
    "\n",
    "def portalFinder(ficIn,portalId):\n",
    "    with open(ficIn,'r') as fic:\n",
    "        csv_reader = csv.reader(fic,delimiter = ';')\n",
    "        for line in csv_reader:\n",
    "            #print(portalId,)\n",
    "            if (int(line[1]) == portalId):\n",
    "                return line[0].split(',')              # On extrait les coordonnees du portail \n",
    "        return []                                      # si le portail n'est pas trouvé on renvoie une liste vide\n",
    "\n",
    "portalFinder(ficIn,portalId)"
   ]
  },
  {
   "cell_type": "code",
   "execution_count": 5,
   "metadata": {
    "collapsed": false
   },
   "outputs": [],
   "source": [
    "# Recuperation de la liste des points visités par un joueur\n",
    "\n",
    "# La periode est donnee en jour et sera convertie en secondes par la fonction.\n",
    "# Repetition est le nombre de periode que l'on veut analyser.\n",
    "\n",
    "\n",
    "def playerVisitedLocations(joueurId,period,repetition):\n",
    "    period = period*24*3600\n",
    "    with open('Actions_triees_par_joueur/'+str(joueurId)+'.csv','r') as to_read:\n",
    "        csv_reader = csv.reader(to_read,delimiter = ';')\n",
    "        visitedLocations = {}\n",
    "        first_line = True\n",
    "        for line in csv_reader:\n",
    "            if first_line:                                   #traitement particulier de la premiere ligne\n",
    "                initial_timestamp = int(line[0])\n",
    "                final_timestamp = initial_timestamp + period\n",
    "                first_line = False\n",
    "            if repetition:\n",
    "                if (final_timestamp < int(line[0])):         #on atteint la fin de la semaine, on sauvegarde et on réinitialise\n",
    "                    save('j'+str(joueurId)+'_week'+str(repetition)+'.csv',visitedLocations)\n",
    "                    repetition -= 1\n",
    "                    final_timestamp += period\n",
    "                    visitedLocations = {}\n",
    "                    \n",
    "                currentLocations = [line[4]]\n",
    "                if (len(line)==6):\n",
    "                    currentLocations.append(line[5])\n",
    "                for loc in currentLocations:\n",
    "                    if not loc in visitedLocations:\n",
    "                        visitedLocations[loc] = (line[0],1)\n",
    "                    else:\n",
    "                        visitedLocations[loc] = (visitedLocations[loc][0],visitedLocations[loc][1]+1)\n",
    "                \n"
   ]
  },
  {
   "cell_type": "code",
   "execution_count": 7,
   "metadata": {
    "collapsed": false
   },
   "outputs": [],
   "source": [
    "# Sauvegarde\n",
    "\n",
    "#fic est le fichier de sortie et data le dictionnaire des localisations\n",
    "\n",
    "def save(fic,data):\n",
    "    with open(fic,'w') as to_write:\n",
    "        csv_writer = csv.writer(to_write,delimiter=';')\n",
    "        for x in data:\n",
    "            coord = portalFinder('portails.csv',int(x))\n",
    "            csv_writer.writerow([coord[0],coord[1]])\n"
   ]
  },
  {
   "cell_type": "code",
   "execution_count": 9,
   "metadata": {
    "collapsed": false
   },
   "outputs": [],
   "source": [
    "playerVisitedLocations(1,7,4)"
   ]
  },
  {
   "cell_type": "code",
   "execution_count": null,
   "metadata": {
    "collapsed": true
   },
   "outputs": [],
   "source": []
  }
 ],
 "metadata": {
  "kernelspec": {
   "display_name": "Python 2",
   "language": "python",
   "name": "python2"
  },
  "language_info": {
   "codemirror_mode": {
    "name": "ipython",
    "version": 2
   },
   "file_extension": ".py",
   "mimetype": "text/x-python",
   "name": "python",
   "nbconvert_exporter": "python",
   "pygments_lexer": "ipython2",
   "version": "2.7.12"
  }
 },
 "nbformat": 4,
 "nbformat_minor": 0
}
