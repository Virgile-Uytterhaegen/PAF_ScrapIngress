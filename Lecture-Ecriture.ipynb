{
 "cells": [
  {
   "cell_type": "code",
   "execution_count": 2,
   "metadata": {
    "collapsed": false
   },
   "outputs": [],
   "source": [
    "# En-tête: bibliothèques à importer, etc\n",
    "\n",
    "import os\n",
    "os.chdir(\"/cal/homes/arenault/workspace/PAF_ScrapIngress\")\n",
    "import numpy as np\n",
    "import csv\n",
    "import codecs\n",
    "import unicodedata"
   ]
  },
  {
   "cell_type": "code",
   "execution_count": 8,
   "metadata": {
    "collapsed": false
   },
   "outputs": [
    {
     "name": "stdout",
     "output_type": "stream",
     "text": [
      "['23225', '19416', '48734', '23360', '25689']\n"
     ]
    }
   ],
   "source": [
    "# Ouverture d'un fichier fic_in, son contenu est placé dans la variable csv_reader\n",
    "\n",
    "fic_in = \"./logs_1000.csv\"\n",
    "\n",
    "portails = []\n",
    "with open(fic_in, 'r') as to_read:\n",
    "    csv_reader = csv.reader(to_read, delimiter = ';')\n",
    "    for line in csv_reader:\n",
    "        if(len(line) >= 5):\n",
    "            portails.append(line[4])\n",
    "        if (len(line) == 6):\n",
    "            portails.append(line[5])\n"
   ]
  },
  {
   "cell_type": "code",
   "execution_count": 10,
   "metadata": {
    "collapsed": false
   },
   "outputs": [],
   "source": [
    "# Ecriture de la chaîne str_out dans le fichier fic_out\n",
    "\n",
    "fic_out = \"./ecriture\"\n",
    "\n",
    "with open(fic_out,\"w\") as to_write:\n",
    "    csv_writer = csv.writer(to_write, delimiter=';')\n",
    "    for k in range(len(portails)):\n",
    "        csv_writer.writerow([portails[k]])"
   ]
  },
  {
   "cell_type": "code",
   "execution_count": 1,
   "metadata": {
    "collapsed": false,
    "scrolled": true
   },
   "outputs": [
    {
     "ename": "NameError",
     "evalue": "name 'csv' is not defined",
     "output_type": "error",
     "traceback": [
      "\u001b[1;31m---------------------------------------------------------------------------\u001b[0m",
      "\u001b[1;31mNameError\u001b[0m                                 Traceback (most recent call last)",
      "\u001b[1;32m<ipython-input-1-9ba9ffa75851>\u001b[0m in \u001b[0;36m<module>\u001b[1;34m()\u001b[0m\n\u001b[0;32m     25\u001b[0m             \u001b[0mline\u001b[0m \u001b[1;33m=\u001b[0m \u001b[0mline\u001b[0m\u001b[1;33m[\u001b[0m\u001b[1;36m8\u001b[0m\u001b[1;33m:\u001b[0m\u001b[1;33m-\u001b[0m\u001b[1;36m10\u001b[0m\u001b[1;33m]\u001b[0m\u001b[1;33m\u001b[0m\u001b[0m\n\u001b[0;32m     26\u001b[0m             \u001b[0mdatas\u001b[0m \u001b[1;33m=\u001b[0m \u001b[0mline\u001b[0m\u001b[1;33m.\u001b[0m\u001b[0msplit\u001b[0m\u001b[1;33m(\u001b[0m\u001b[1;34m'</td><td>'\u001b[0m\u001b[1;33m)\u001b[0m\u001b[1;33m\u001b[0m\u001b[0m\n\u001b[1;32m---> 27\u001b[1;33m             \u001b[0mcsv_writer\u001b[0m \u001b[1;33m=\u001b[0m \u001b[0mcsv\u001b[0m\u001b[1;33m.\u001b[0m\u001b[0mwriter\u001b[0m\u001b[1;33m(\u001b[0m\u001b[0mto_write\u001b[0m\u001b[1;33m,\u001b[0m \u001b[0mdelimiter\u001b[0m\u001b[1;33m=\u001b[0m\u001b[1;34m';'\u001b[0m\u001b[1;33m)\u001b[0m\u001b[1;33m\u001b[0m\u001b[0m\n\u001b[0m\u001b[0;32m     28\u001b[0m             \u001b[0mcsv_writer\u001b[0m\u001b[1;33m.\u001b[0m\u001b[0mwriterow\u001b[0m\u001b[1;33m(\u001b[0m\u001b[1;33m[\u001b[0m\u001b[0mdatas\u001b[0m\u001b[1;33m[\u001b[0m\u001b[1;36m0\u001b[0m\u001b[1;33m]\u001b[0m\u001b[1;33m,\u001b[0m\u001b[0mdatas\u001b[0m\u001b[1;33m[\u001b[0m\u001b[1;36m1\u001b[0m\u001b[1;33m]\u001b[0m\u001b[1;33m,\u001b[0m\u001b[0mdatas\u001b[0m\u001b[1;33m[\u001b[0m\u001b[1;36m2\u001b[0m\u001b[1;33m]\u001b[0m\u001b[1;33m,\u001b[0m\u001b[0mdatas\u001b[0m\u001b[1;33m[\u001b[0m\u001b[1;36m3\u001b[0m\u001b[1;33m]\u001b[0m\u001b[1;33m]\u001b[0m\u001b[1;33m)\u001b[0m\u001b[1;33m\u001b[0m\u001b[0m\n\u001b[0;32m     29\u001b[0m             \u001b[0mcurrentPortal\u001b[0m \u001b[1;33m+=\u001b[0m \u001b[1;36m1\u001b[0m\u001b[1;33m\u001b[0m\u001b[0m\n",
      "\u001b[1;31mNameError\u001b[0m: name 'csv' is not defined"
     ]
    }
   ],
   "source": [
    "# Conversion html vers csv (deprecated)\n",
    "\n",
    "ficIn = './Logs_Ingress/portal_list.txt'\n",
    "ficOut = './portails.csv'\n",
    "\n",
    "portalNumber = 272089\n",
    "\n",
    "currentPortal = 0\n",
    "currentPos = 0\n",
    "\n",
    "with open(ficIn,'r') as to_read:\n",
    "    with open(ficOut,'a') as to_write:\n",
    "        txt = to_read.read()\n",
    "        #txt = unicode(txt,'utf-8')\n",
    "        #txt = unicodedata.normalize('NFKD', txt).encode('ASCII', 'ignore')\n",
    "        while(currentPortal < portalNumber):\n",
    "            line = ''\n",
    "            bracketCounter = 0\n",
    "            while(bracketCounter < 10):\n",
    "                char = txt[currentPos]\n",
    "                if (char == '>'):\n",
    "                    bracketCounter += 1\n",
    "                line += char\n",
    "                currentPos += 1\n",
    "            line = line[8:-10]\n",
    "            datas = line.split('</td><td>')\n",
    "            csv_writer = csv.writer(to_write, delimiter=';')\n",
    "            csv_writer.writerow([datas[0],datas[1],datas[2],datas[3]])       \n",
    "            currentPortal += 1"
   ]
  },
  {
   "cell_type": "code",
   "execution_count": 46,
   "metadata": {
    "collapsed": false
   },
   "outputs": [],
   "source": [
    "# Conversion html vers csv\n",
    "\n",
    "ficIn = './Logs_Ingress/portal_list.txt'\n",
    "ficOut = './portails.csv'\n",
    "\n",
    "with open(ficIn,'r') as to_read:\n",
    "    with open(ficOut,'a') as to_write:\n",
    "        txt = to_read.read()\n",
    "        tab = [x[4:] for x in txt.split('</tr>')[:-1]]    # On supprime les composantes <tr> et </tr>. On recupere un tableau \n",
    "                                                          # 2D dont les lignes sont les infos d'un portail\n",
    "        tab = [y.split('</td>')[:-1] for y in tab]        # Pour chaque portail on sépare les informations délimitées par </td>\n",
    "        tab = [tab[i][j][4:] for i in range(len(tab)) for j in range(4)] # On supprime l'en-tete <td>\n",
    "        csv_writer = csv.writer(to_write, delimiter=';')\n",
    "        for k in range(0,len(tab),4):\n",
    "            csv_writer.writerow(tab[k:k+4])"
   ]
  },
  {
   "cell_type": "code",
   "execution_count": 3,
   "metadata": {
    "collapsed": false
   },
   "outputs": [
    {
     "data": {
      "text/plain": [
       "2.7777777777777777"
      ]
     },
     "execution_count": 3,
     "metadata": {},
     "output_type": "execute_result"
    }
   ],
   "source": []
  },
  {
   "cell_type": "code",
   "execution_count": null,
   "metadata": {
    "collapsed": true
   },
   "outputs": [],
   "source": []
  }
 ],
 "metadata": {
  "kernelspec": {
   "display_name": "Python 2",
   "language": "python",
   "name": "python2"
  },
  "language_info": {
   "codemirror_mode": {
    "name": "ipython",
    "version": 2
   },
   "file_extension": ".py",
   "mimetype": "text/x-python",
   "name": "python",
   "nbconvert_exporter": "python",
   "pygments_lexer": "ipython2",
   "version": "2.7.12"
  }
 },
 "nbformat": 4,
 "nbformat_minor": 0
}
