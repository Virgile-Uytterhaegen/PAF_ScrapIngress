{
 "cells": [
  {
   "cell_type": "code",
   "execution_count": 8,
   "metadata": {
    "collapsed": false
   },
   "outputs": [],
   "source": [
    "# En-tête: bibliothèques à importer, etc\n",
    "\n",
    "import os\n",
    "os.chdir(\"/cal/homes/arenault/workspace/ScrapIngress\")"
   ]
  },
  {
   "cell_type": "code",
   "execution_count": 9,
   "metadata": {
    "collapsed": false
   },
   "outputs": [],
   "source": [
    "# Ouverture d'un fichier fic_in, son contenu est placé dans la variable str_in\n",
    "\n",
    "fic_in = \"./logs_1000.csv\"\n",
    "\n",
    "fic = open(fic_in,\"r\")\n",
    "str_in = fic.read()\n",
    "fic.close()"
   ]
  },
  {
   "cell_type": "code",
   "execution_count": 10,
   "metadata": {
    "collapsed": false
   },
   "outputs": [],
   "source": [
    "# Ecriture de la chaîne str_out dans le fichier fic_out\n",
    "\n",
    "fic_out = \"./ecriture\"\n",
    "str_out = str_in\n",
    "\n",
    "fic = open(fic_out,\"w\")\n",
    "fic.write(str_out)\n",
    "fic.close()"
   ]
  },
  {
   "cell_type": "code",
   "execution_count": null,
   "metadata": {
    "collapsed": true
   },
   "outputs": [],
   "source": [
    "# Récupération de la liste des portails\n",
    "\n"
   ]
  }
 ],
 "metadata": {
  "kernelspec": {
   "display_name": "Python 2",
   "language": "python",
   "name": "python2"
  },
  "language_info": {
   "codemirror_mode": {
    "name": "ipython",
    "version": 2
   },
   "file_extension": ".py",
   "mimetype": "text/x-python",
   "name": "python",
   "nbconvert_exporter": "python",
   "pygments_lexer": "ipython2",
   "version": "2.7.12"
  }
 },
 "nbformat": 4,
 "nbformat_minor": 0
}
