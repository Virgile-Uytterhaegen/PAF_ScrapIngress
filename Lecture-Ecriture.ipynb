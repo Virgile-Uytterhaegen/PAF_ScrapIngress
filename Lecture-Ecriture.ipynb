{
 "cells": [
  {
   "cell_type": "code",
   "execution_count": 2,
   "metadata": {
    "collapsed": false
   },
   "outputs": [],
   "source": [
    "# En-tête: bibliothèques à importer, etc\n",
    "\n",
    "import os\n",
    "os.chdir(\"/cal/homes/arenault/workspace/ScrapIngress\")\n",
    "import numpy as np\n",
    "import csv\n",
    "import codecs\n",
    "import unicodedata"
   ]
  },
  {
   "cell_type": "code",
   "execution_count": 8,
   "metadata": {
    "collapsed": false
   },
   "outputs": [
    {
     "name": "stdout",
     "output_type": "stream",
     "text": [
      "['23225', '19416', '48734', '23360', '25689']\n"
     ]
    }
   ],
   "source": [
    "# Ouverture d'un fichier fic_in, son contenu est placé dans la variable csv_reader\n",
    "\n",
    "fic_in = \"./logs_1000.csv\"\n",
    "\n",
    "portails = []\n",
    "with open(fic_in, 'r') as to_read:\n",
    "    csv_reader = csv.reader(to_read, delimiter = ';')\n",
    "    for line in csv_reader:\n",
    "        if(len(line) >= 5):\n",
    "            portails.append(line[4])\n",
    "        if (len(line) == 6):\n",
    "            portails.append(line[5])\n"
   ]
  },
  {
   "cell_type": "code",
   "execution_count": 10,
   "metadata": {
    "collapsed": false
   },
   "outputs": [],
   "source": [
    "# Ecriture de la chaîne str_out dans le fichier fic_out\n",
    "\n",
    "fic_out = \"./ecriture\"\n",
    "\n",
    "with open(fic_out,\"w\") as to_write:\n",
    "    csv_writer = csv.writer(to_write, delimiter=';')\n",
    "    for k in range(len(portails)):\n",
    "        csv_writer.writerow([portails[k]])"
   ]
  },
  {
   "cell_type": "code",
   "execution_count": 3,
   "metadata": {
    "collapsed": false,
    "scrolled": true
   },
   "outputs": [
    {
     "name": "stdout",
     "output_type": "stream",
     "text": [
      "['48.871088,2.346421', '1', 'Credit Lyonnais Agence Zo', '16 Boulevard Poissonni\\xc3\\xa8re, 75010 Paris, France']\n",
      "['46.403079,0.724884', '2', 'Monument aux morts', '4-12 Rue Maurice Rat, 86320 Lussac-les-Ch\\xc3\\xa2teaux, France']\n",
      "['46.501533,0.474246', '3', 'Croix', \"25-27 Route de Foulle, 86340 Nieuil-l'Espoir, France\"]\n",
      "['48.824686,2.259531', '4', \"Aire De Jeu A L'avion\", 'Chemin de Bretagne, 92130 Issy-les-Moulineaux, France']\n",
      "['48.829691,2.26293', '5', 'Tramway Issy Val De Seine', 'Issy - Val de Seine, 92130 Issy-les-Moulineaux, France']\n",
      "['48.890586,2.247773', '6', 'Tour D2', 'Boulevard Circulaire, 92400 Courbevoie, France']\n",
      "['48.836257,2.407139', '7', '1984', '11 Boulevards des Mar\\xc3\\xa9chaux, 75012 Paris, France']\n",
      "['48.835668,2.407199', '8', \"Fleurs d'Or\", '2 Boulevard Soult, 75012 Paris, France']\n",
      "['49.382512,1.590092', '9', '\\xc3\\x89glise De Morgny', '1-5 Rue Saint-Adrien, 27150 Morgny, France']\n",
      "['48.870298,2.349002', '10', 'Masque de La Tristesse Bleue', '11 Rue Thorel, 75002 Paris, France']\n",
      "['48.87112,2.392617', '11', 'Indian Story', '335 Rue des Pyr\\xc3\\xa9n\\xc3\\xa9es, 75020 Paris, France']\n",
      "['48.855786,2.356904', '12', 'Medieval Houses in rue Fran\\xc3\\xa7ois-Miron', '1 Rue Cloche Perc\\xc3\\xa9, 75004 Paris, France']\n",
      "['48.856384,2.355825', '13', 'Ren\\xc3\\xa9 Laboudance', '25 Rue de Rivoli, Paris, 75004 Paris, France']\n",
      "['48.85643,2.356628', '14', 'Street Art Rue Vieille du Temple', '11 Rue Vieille du Temple, 75004 Paris, France']\n",
      "['48.856675,2.35677', '15', 'Mosa\\xc3\\xafque Cheval', '56 Rue du Roi de Sicile, 75004 Paris, France']\n",
      "['48.853314,2.370441', '16', 'Caf\\xc3\\xa9 Rey', '2 Rue de la Roquette, 75011 Paris, France']\n",
      "['48.853133,2.370405', '17', 'M\\xc3\\xa9tro Bastille', '1 Rue du Faubourg Saint-Antoine, 75011 Paris, France']\n",
      "['48.857107,2.357113', '18', 'Femme Albator', '21 Rue Vieille du Temple, 75004 Paris, France']\n",
      "['48.856016,2.357114', '19', 'Dessin', '4-6 Rue Cloche Perc\\xc3\\xa9, 75004 Paris, France']\n",
      "['48.841739,2.356926', '20', 'Groupe de Cristaux de Quartz', 'All\\xc3\\xa9e Ha\\xc3\\xbcy, 75005 Paris, France']\n",
      "['48.856266,2.355166', '21', 'Monument Historique', '1 Place Baudoyer, 75004 Paris, France']\n",
      "['48.855703,2.357158', '22', 'Le Cheval', '21 Rue Fran\\xc3\\xa7ois Miron, 75004 Paris, France']\n",
      "['48.856681,2.356935', '23', 'Le Pick Clops', '16 Rue Vieille du Temple, 75004 Paris, France']\n",
      "['48.857658,2.357672', '24', 'Lady Painting', '33-35 Rue Vieille du Temple, 75004 Paris, France']\n",
      "['48.869512,2.348452', '25', 'Mosa\\xc3\\xafque De Paris ', '7-11 Rue de la ville Neuve, 75002 Paris, France']\n",
      "['48.899166,2.278306', '26', 'Crue Janvier 1910', 'Pont de Levallois, 92300 Levallois-Perret, France']\n",
      "['48.870776,2.393183', '27', 'Soldat', '3-15 Cit\\xc3\\xa9 Leroy, 75020 Paris, France']\n",
      "['48.857843,2.357227', '28', 'Street Art Rue des Guillemites', '8 Rue Sainte-Croix de la Bretonnerie, 75004 Paris, France']\n",
      "['48.85583,2.355749', '29', 'Le Diamant De La Rue Des Barres', '19 Rue des Barres, 75004 Paris, France']\n",
      "['48.857395,2.356059', '30', 'Le hibou', '23 Rue du Bourg Tibourg, 75004 Paris, France']\n",
      "['48.857048,2.355452', '31', 'Meorre Fountaine', '4 Rue de la Verrerie, 75004 Paris, France']\n",
      "['48.838252,2.751583', '32', '\\xc3\\x89glise de Jossigny', '4-6 Rue de Paris, 77600 Jossigny, France']\n",
      "['48.838159,2.750471', '33', 'La Petanque', '2 Chemin du Colombier, 77600 Jossigny, France']\n",
      "['48.856847,2.354437', '34', 'Les Colosses De Rivoli', '48 Rue de Rivoli, 75004 Paris, France']\n",
      "['48.856031,2.360465', '35', 'Synagogue Rue Pav\\xc3\\xa9e', '10 Rue Pav\\xc3\\xa9e, 75004 Paris, France']\n",
      "['48.824153,2.260328', '36', 'Sculpture in Paris', 'Place Jacques Madaule, 92130 Issy-les-Moulineaux, France']\n",
      "['48.874948,2.310575', '37', 'Baron Haussman', '153 Boulevard Haussmann, 75008 Paris, France']\n",
      "['48.899586,2.277765', '38', 'Crue Du 6 Janvier 1924', 'Pont de Levallois, 92300 Levallois-Perret, France']\n",
      "['48.868901,2.681709', '39', 'La Marmitte De Brinon', '1 Rue des Vergers, 77400 Saint-Thibault-des-Vignes, France']\n",
      "['44.841532,-0.574506', '40', 'La Muse', '1 Rue Saige, 33000 Bordeaux, France']\n",
      "['46.173402,6.084851', '41', 'Mairie De Confignon', 'Chemin de Mourlaz 2, 1232 Confignon, Switzerland']\n",
      "['46.173206,6.084823', '42', 'Vieille Charrue', 'Chemin de Mourlaz 2, 1232 Confignon, Switzerland']\n",
      "['46.228376,6.080613', '43', 'Cristal Power', 'Rue de la Prulay 10, 1217 Meyrin, Switzerland']\n",
      "['45.058342,7.691127', '44', 'Santa Maria from il ponte Umbe', 'Parco fluviale del Po tratto torinese, Corso Vittorio Emanuele II, 10126 Turin, Italy']\n",
      "['43.680488,7.230202', '45', 'Pos\\xc3\\xa9idon de Carras', '230-232 Avenue de la Californie, 06200 Nice, France']\n",
      "['43.69503,7.264245', '46', 'Jazz trumpeter', '11 Promenade des Anglais, 06000 Nice, France']\n",
      "['45.754493,4.827342', '47', 'visage rue Jarente', '3 Jarente Street, 69002 Lyon, France']\n",
      "['43.124752,5.929177', '48', 'Porte Des Fantaisies Toulonnaises', '4-6 Rue de la Com\\xc3\\xa9die, 83000 Toulon, France']\n",
      "['45.088472,7.656667', '49', 'Insegne Corrao', 'Via Pianezza, 12, 10149 Turin, Italy']\n",
      "['43.124161,5.929266', '50', 'Maison De Jean Aicard', \"1 Rue de l'Ordonnance, 83000 Toulon, France\"]\n",
      "['46.94848,7.448279', '51', 'Transistor Station', 'Zibeleg\\xc3\\xa4ssli 18, 3011 Berne, Switzerland']\n",
      "['43.4295,3.777523', '52', 'Frontignan Phare', 'Quai Robert Alary, 34110 Frontignan, France']\n",
      "['43.694658,7.264953', '53', 'Ruhl Plage', 'Tunnel du Congr\\xc3\\xa8s, 06000 Nice, France']\n",
      "['46.9445,7.431886', '54', 'Strassenschach', 'Schwarztorstrasse 53, 3007 Bern, Switzerland']\n",
      "['47.16289,7.526754', '55', 'Bahnhof Lohn-L\\xc3\\xbcterkofen', 'Bahnhofplatz 5, 4573 Lohn-Ammannsegg, Switzerland']\n",
      "['47.163334,7.526697', '56', 'Lohn-L\\xc3\\xbcterkofen', 'Bahnhofplatz 5, 4573 Lohn-Ammannsegg, Switzerland']\n",
      "['43.124361,5.929935', '57', 'Le Kiosque', 'Rue Prosper Ferrero, 83000 Toulon, France']\n",
      "['46.233097,7.361297', '58', 'Fontaine Lombardie', 'Rue de la Lombardie 8, 1950 Sion, Switzerland']\n",
      "['46.232855,7.360986', '59', 'Ecusson De La Tour De 1620', 'Rue du Rh\\xc3\\xb4ne 7, 1950 Sion, Switzerland']\n",
      "['47.245351,6.025966', '60', 'Statuette Incrust\\xc3\\xa9e', '2-6 Rue Klein, 25000 Besan\\xc3\\xa7on, France']\n",
      "['47.249026,6.020356', '61', 'Abstrait Bien Urbain Besan\\xc3\\xa7on ', '10 Rue de Vesoul, 25000 Besan\\xc3\\xa7on, France']\n",
      "['47.24727,6.022926', '62', 'Pax 39-45 ', '2 Avenue de la Paix, 25000 Besan\\xc3\\xa7on, France']\n",
      "['47.242511,6.027364', '63', \"Marquis de jouffroi d'abbans\", \"5 Avenue d'Helv\\xc3\\xa9tie, 25000 Besan\\xc3\\xa7on, France\"]\n",
      "['47.239462,6.015364', '64', 'Entr\\xc3\\xa9e du Tunnel', 'Avenue Charles Siffert, 25000 Besan\\xc3\\xa7on, France']\n",
      "['47.242053,6.024676', '65', 'Le Minotaure', '43 Quai de Strasbourg, 25000 Besan\\xc3\\xa7on, France']\n",
      "['43.57058,7.002453', '66', 'Sculpture Rd Point', 'Boulevard du Four \\xc3\\xa0 Chaud, 06110 Le Cannet, France']\n",
      "['46.228736,6.081585', '67', 'Elephant Show ', 'Rue de la Prulay 8, 1217 Meyrin, Switzerland']\n",
      "['48.856303,2.357155', '68', 'Fresque Murale', '7-9 Rue Cloche Perc\\xc3\\xa9, 75004 Paris, France']\n",
      "['48.8327,2.229448', '69', 'Italie CEFI', '204 Avenue du Mar\\xc3\\xa9chal Juin, 92100 Boulogne-Billancourt, France']\n",
      "['48.870719,2.34889', '70', 'Th\\xc3\\xa9\\xc3\\xa2tre Gymnase Marie Bell', '34 Boulevard de Bonne Nouvelle, 75010 Paris, France']\n",
      "['48.841906,2.357471', '71', 'Roche exceptionnelle, Jardin des Plantes', '22 Rue Buffon, 75005 Paris, France']\n",
      "['48.870039,2.393388', '72', 'Laissez Venir \\xc3\\x80 Moi Les Petits Enfants', '117-121 Rue de Menilmontant, 75020 Paris, France']\n",
      "['48.826647,2.328681', '73', 'J Coulin Et Roset Architecture ', '7 Rue Adolphe Focillon, 75014 Paris, France']\n",
      "['48.821507,2.332413', '74', 'Athena', '47 Bis Boulevard Jourdan, 75014 Paris, France']\n",
      "['48.83826,2.749774', '75', 'Mini Cross', 'D406, 77600 Jossigny, France']\n",
      "['48.899779,2.277698', '76', 'Les Poissons De La Seine', 'Pont de Levallois, 92300 Levallois-Perret, France']\n",
      "['48.893434,2.329654', '77', 'A la m\\xc3\\xa9moire de Marcel Signeux', '221 Rue Championnet, 75018 Paris, France']\n",
      "['48.869867,2.393892', '78', 'Street Art Mur Jardin Du Carr\\xc3\\xa9 De Baudouin ', '117-121 Rue de Menilmontant, 75020 Paris, France']\n",
      "['48.856714,2.35613', '79', 'Poign\\xc3\\xa9e Du Pozzetto', '39 Rue du Roi de Sicile, 75004 Paris, France']\n",
      "['48.835929,2.406186', '80', '\\xc3\\x89glise \\xc3\\x89vang\\xc3\\xa9lique', '273 Avenue Daumesnil, 75012 Paris, France']\n",
      "['45.826628,1.25914', '81', 'Biblioth\\xc3\\xa8que Francophone Multim\\xc3\\xa9dia', '9 Avenue Baudin, 87000 Limoges, France']\n",
      "['46.233769,7.360625', '82', \"l'H\\xc3\\xb4tel de ville de Sion\", 'Rue du Grand-Pont 12, 1950 Sion, Switzerland']\n",
      "['45.080438,7.671697', '83', 'Targa Piccone Franco Martire', 'Corso Regina Margherita, 157, 10122 Turin, Italy']\n",
      "['45.078076,7.670545', '84', 'Fregio Con Angelo', 'Via San Domenico, 49, 10122 Torino, Italy']\n",
      "['43.315387,3.140077', '85', 'Croix En Bois Du Canal', '11 Avenue de Montady, 34440 Colombiers, France']\n",
      "['48.872749,2.352206', '86', 'Big Head P.\\xc3\\x89curies', '11 Cour des Petites \\xc3\\x89curies, 75010 Paris, France']\n",
      "['48.876648,2.35541', '87', 'Porte du march\\xc3\\xa9 Saint Quentin', '10 Rue de Chabrol, 75010 Paris, France']\n",
      "['48.813365,2.301589', '88', 'Cabane De Jeux', '210 Avenue Pierre Brossolette, 92240 Malakoff, France']\n",
      "['48.812922,2.303883', '89', '\\xc3\\x89dition L\\xc3\\xa9gislatives', '86-94 Avenue de la Marne, 92120 Montrouge, France']\n",
      "['48.869776,2.39363', '90', 'Jardin du Carr\\xc3\\xa9-de-Baudouin', '117-121 Rue de Menilmontant, 75020 Paris, France']\n",
      "['48.824966,2.260613', '91', 'Jacques-Henri Lartigue Tramway', '163 Quai de Stalingrad, 92130 Issy-les-Moulineaux, France']\n",
      "['48.855578,2.357578', '92', 'Porte Aux Escargots', '23 Rue Fran\\xc3\\xa7ois Miron, 75004 Paris, France']\n",
      "['48.856977,2.357442', '93', 'Babyx Dans Le Marais', '24 Rue Vieille du Temple, 75004 Paris, France']\n",
      "['48.900029,2.27844', '94', \"L'embacle De La Seine\", 'Pont de Levallois, 92300 Levallois-Perret, France']\n",
      "['48.890199,2.247089', '95', 'La Terre de Derbr\\xc3\\xa9', 'Entrepont Reflets, 92400 Courbevoie, France']\n",
      "['48.889722,2.247181', '96', 'Grenouille', 'Pat des Reflets, 92400 Courbevoie, France']\n",
      "['48.893451,2.328744', '97', 'Coiffure Street Art', '234 Rue Championnet, 75018 Paris, France']\n",
      "['48.823153,2.335553', '98', 'Maison De Repos', '14bis Rue Nansouty, 75014 Paris, France']\n",
      "['48.835697,2.40564', '99', 'Boulangerie Van Der Meersch', '3 Villa Jean Godard, 75012 Paris, France']\n",
      "['48.829048,2.317155', '100', 'Fen\\xc3\\xaatre Surveill\\xc3\\xa9e \\xc3\\x89troitement Par Un Visage', '87bis Rue Didot, 75014 Paris, France']\n"
     ]
    }
   ],
   "source": [
    "# Conversion html vers csv (deprecated)\n",
    "\n",
    "ficIn = './Logs_Ingress/portal_list.txt'\n",
    "ficOut = './portails.csv'\n",
    "\n",
    "portalNumber = 272089\n",
    "\n",
    "currentPortal = 0\n",
    "currentPos = 0\n",
    "\n",
    "with open(ficIn,'r') as to_read:\n",
    "    with open(ficOut,'a') as to_write:\n",
    "        txt = to_read.read()\n",
    "        #txt = unicode(txt,'utf-8')\n",
    "        #txt = unicodedata.normalize('NFKD', txt).encode('ASCII', 'ignore')\n",
    "        while(currentPortal < portalNumber):\n",
    "            line = ''\n",
    "            bracketCounter = 0\n",
    "            while(bracketCounter < 10):\n",
    "                char = txt[currentPos]\n",
    "                if (char == '>'):\n",
    "                    bracketCounter += 1\n",
    "                line += char\n",
    "                currentPos += 1\n",
    "            line = line[8:-10]\n",
    "            datas = line.split('</td><td>')\n",
    "            csv_writer = csv.writer(to_write, delimiter=';')\n",
    "            csv_writer.writerow([datas[0],datas[1],datas[2],datas[3]])       \n",
    "            currentPortal += 1"
   ]
  },
  {
   "cell_type": "code",
   "execution_count": 46,
   "metadata": {
    "collapsed": false
   },
   "outputs": [],
   "source": [
    "# Conversion html vers csv\n",
    "\n",
    "ficIn = './Logs_Ingress/portal_list.txt'\n",
    "ficOut = './portails.csv'\n",
    "\n",
    "with open(ficIn,'r') as to_read:\n",
    "    with open(ficOut,'a') as to_write:\n",
    "        txt = to_read.read()\n",
    "        tab = [x[4:] for x in txt.split('</tr>')[:-1]]\n",
    "        tab = [y.split('</td>')[:-1] for y in tab]\n",
    "        tab = [tab[i][j][4:] for i in range(len(tab)) for j in range(4)]\n",
    "        csv_writer = csv.writer(to_write, delimiter=';')\n",
    "        for k in range(0,len(tab),4):\n",
    "            csv_writer.writerow(tab[k:k+4])"
   ]
  },
  {
   "cell_type": "code",
   "execution_count": null,
   "metadata": {
    "collapsed": true
   },
   "outputs": [],
   "source": []
  }
 ],
 "metadata": {
  "kernelspec": {
   "display_name": "Python 2",
   "language": "python",
   "name": "python2"
  },
  "language_info": {
   "codemirror_mode": {
    "name": "ipython",
    "version": 2
   },
   "file_extension": ".py",
   "mimetype": "text/x-python",
   "name": "python",
   "nbconvert_exporter": "python",
   "pygments_lexer": "ipython2",
   "version": "2.7.12"
  }
 },
 "nbformat": 4,
 "nbformat_minor": 0
}
