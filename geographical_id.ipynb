{
 "cells": [
  {
   "cell_type": "code",
   "execution_count": 23,
   "metadata": {
    "collapsed": true
   },
   "outputs": [],
   "source": [
    "# En-tete\n",
    "\n",
    "import os\n",
    "os.chdir(\"/cal/homes/arenault/workspace/PAF_ScrapIngress\")\n",
    "import csv\n",
    "import math as m"
   ]
  },
  {
   "cell_type": "code",
   "execution_count": 1,
   "metadata": {
    "collapsed": false
   },
   "outputs": [],
   "source": [
    "    # Dichotomie 2D\\n,\n",
    "\n",
    "    # La fonction prend en entree les limites de la zone initiale, la longueur de la zone finale, les coordonnées [x,y] du portail.\n",
    "    # Elle renvoie l'ID de la zone dans laquelle se trouve le portail; -1 si le portail n'est pas dans la zone scrappee.\n",
    "\n",
    "    def dichotomie2D(xmin,xmax,ymin,ymax,precision,portail):\n",
    "        xp,yp = portail[0],portail[1]\n",
    "        ID = 0\n",
    "        xc,yc = (xmax-xmin)/2+xmin,(ymax-ymin)/2+ymin \n",
    "        if (xp > xmax or xp < xmin or yp > ymax or yp < ymin):       # Le portail est hors limite, on renvoie donc -1\n",
    "            return -1\n",
    "        while (ymax-ymin > precision and xmax-xmin > precision):     # Le portail etant dans les limites, on effectue une dichotomie\n",
    "            if (xp <= xc and yp >= yc):                              # Portail est dans la zone superieure gauche\n",
    "                ID = 10*ID+1\n",
    "                xmax,ymin = xc,yc\n",
    "                xc,yc = xc-(xmax-xmin)/2,yc+(ymax-ymin)/2\n",
    "            elif (xp > xc and yp > yc):                              # Portail est dans la zone superieure droite\n",
    "                ID = 10*ID+2\n",
    "                xmin,ymin = xc,yc\n",
    "                xc,yc = xc+(xmax-xmin)/2,yc+(ymax-ymin)/2\n",
    "            elif (xp < xc and yp < yc):                              # Portail est dans la zone inferieure gauche\n",
    "                ID = 10*ID+3\n",
    "                xmax,ymax = xc,yc\n",
    "                xc,yc = xc-(xmax-xmin)/2,yc-(ymax-ymin)/2\n",
    "            elif (xp >= xc and yp <= yc):                            # Portail est dans la zone inferieure droite\n",
    "                ID = 10*ID+4\n",
    "                xmin,ymax = xc,yc\n",
    "                xc,yc = xc+(xmax-xmin)/2,yc-(ymax-ymin)/2\n",
    "        return ID"
   ]
  },
  {
   "cell_type": "code",
   "execution_count": 2,
   "metadata": {
    "collapsed": false
   },
   "outputs": [
    {
     "data": {
      "text/plain": [
       "[33, 31, 13, 11, 34, 32, 14, 12, 43, 41, 23, 21, 44, 42, 24, 22, -1]"
      ]
     },
     "execution_count": 2,
     "metadata": {},
     "output_type": "execute_result"
    }
   ],
   "source": [
    "xmin,xmax,ymin,ymax = 0,4,0,4\n",
    "precision = 1\n",
    "portails = [[i+0.5,j+0.5] for i in range(4) for j in range(4)]\n",
    "portails.append([0,7])\n",
    "\n",
    "[dichotomie2D(xmin,xmax,ymin,ymax,precision,p) for p in portails]"
   ]
  },
  {
   "cell_type": "code",
   "execution_count": 33,
   "metadata": {
    "collapsed": false
   },
   "outputs": [
    {
     "name": "stdout",
     "output_type": "stream",
     "text": [
      "(0.9677478736471431, 0.9677478736471432)\n",
      "6165.52170301\n",
      "6454.0403915\n"
     ]
    }
   ],
   "source": [
    "# Conversion de la latitude, longitude en coordonnées cartésiennes\n",
    "\n",
    "# La fonction prend en entree latitude et longitude d'un point de référence (l'origine de notre repère) ainsi que la\n",
    "# latitude et la longitude du point qui nous interesse.\n",
    "# En sortie on obtient les coordonnees (x,y) de ce point par rapport à l'origine en entrée.\n",
    "# on utilise la formule \"Haversine\"\n",
    "\n",
    "def degreToRad(lat):\n",
    "    return lat*m.pi/180\n",
    "\n",
    "def conversion(origin_lat,origin_long,latitude,longitude):\n",
    "    origin_lat,origin_long = degreToRad(origin_lat),degreToRad(origin_long) \n",
    "    latitude, longitude = degreToRad(latitude),degreToRad(longitude) \n",
    "    dlat = latitude-origin_lat\n",
    "    dlong = longitude-origin_long\n",
    "    a = m.sin(dlat/2)**2 + m.cos(origin_lat)*m.cos(latitude)*m.sin(dlong/2)**2\n",
    "    c = 2*m.atan2(m.sqrt(a),m.sqrt(1-a))\n",
    "    c2 = 2*m.asin(a**(0.5))\n",
    "    radius = 6371   #rayon de la Terre en km\n",
    "    print(c,c2)\n",
    "    return c*radius\n"
   ]
  },
  {
   "cell_type": "code",
   "execution_count": 14,
   "metadata": {
    "collapsed": false
   },
   "outputs": [],
   "source": [
    "# ajout de l'id geographique dans le fichier ficIn\n",
    "\n",
    "ficIn = \"./portails.csv\"\n",
    "\n",
    "def id_geographique(ficIn):\n",
    "    with open(ficIn,'r+') as fic:\n",
    "        csv_reader = csv.reader(fic, delimiter = ';')\n",
    "        for line in csv_reader:\n",
    "            portal = line[0].split(',')\n",
    "            ID = dichotomie2D(xmin,xmax,ymin,ymax,precision,portal)\n",
    "            csv_writer = csv.writer(fic, delimiter = ';')\n",
    "            csv_writer.writerow(line + [ID])"
   ]
  },
  {
   "cell_type": "code",
   "execution_count": 9,
   "metadata": {
    "collapsed": false
   },
   "outputs": [],
   "source": [
    "# Test de l'id\n",
    "\n",
    "ficIn = \"./portails.csv\"\n",
    "ficOut = \"./test_id.csv\"\n",
    "\n",
    "with open(ficIn, 'r') as ficIn:\n",
    "    with open(ficOut, 'w') as ficOut:\n",
    "        csv_reader = csv.reader(ficIn, delimiter = ';')\n",
    "        csv_writer = csv.writer(ficOut, delimiter = ';')\n",
    "        k = 0\n",
    "        for line in csv_reader:\n",
    "            if (k<1000):\n",
    "                csv_writer.writerow(line)\n",
    "            k += 1\n"
   ]
  },
  {
   "cell_type": "code",
   "execution_count": null,
   "metadata": {
    "collapsed": true
   },
   "outputs": [],
   "source": []
  }
 ],
 "metadata": {
  "kernelspec": {
   "display_name": "Python 2",
   "language": "python",
   "name": "python2"
  },
  "language_info": {
   "codemirror_mode": {
    "name": "ipython",
    "version": 2
   },
   "file_extension": ".py",
   "mimetype": "text/x-python",
   "name": "python",
   "nbconvert_exporter": "python",
   "pygments_lexer": "ipython2",
   "version": "2.7.12"
  }
 },
 "nbformat": 4,
 "nbformat_minor": 0
}
