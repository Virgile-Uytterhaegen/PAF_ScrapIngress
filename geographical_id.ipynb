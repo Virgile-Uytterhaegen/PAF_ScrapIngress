{
 "cells": [
  {
   "cell_type": "code",
   "execution_count": 1,
   "metadata": {
    "collapsed": true
   },
   "outputs": [],
   "source": [
    "# En-tete\n",
    "\n",
    "import os\n",
    "os.chdir(\"/cal/homes/arenault/workspace/PAF_ScrapIngress\")\n",
    "import csv\n",
    "import math as m\n",
    "import numpy as np\n",
    "import cv2"
   ]
  },
  {
   "cell_type": "code",
   "execution_count": 2,
   "metadata": {
    "collapsed": false
   },
   "outputs": [],
   "source": [
    "    # Dichotomie 2D\n",
    "\n",
    "    # La fonction prend en entree les limites de la zone initiale, la longueur de la zone finale, les coordonnées [x,y] du portail.\n",
    "    # Elle renvoie l'ID de la zone dans laquelle se trouve le portail; -1 si le portail n'est pas dans la zone scrappee.\n",
    "\n",
    "    def dichotomie2D(xmin,xmax,ymin,ymax,precision,portail):\n",
    "        xp,yp = portail[0],portail[1]\n",
    "        ID = 0\n",
    "        xc,yc = (xmax-xmin)/2+xmin,(ymax-ymin)/2+ymin \n",
    "        if (xp > xmax or xp < xmin or yp > ymax or yp < ymin):       # Le portail est hors limite, on renvoie donc -1\n",
    "            return -1\n",
    "        while (ymax-ymin > precision and xmax-xmin > precision):     # Le portail etant dans les limites, on effectue une dichotomie\n",
    "            if (xp <= xc and yp >= yc):                              # Portail est dans la zone superieure gauche\n",
    "                ID = 10*ID+1\n",
    "                xmax,ymin = xc,yc\n",
    "                xc,yc = xc-(xmax-xmin)/2,yc+(ymax-ymin)/2\n",
    "            elif (xp > xc and yp > yc):                              # Portail est dans la zone superieure droite\n",
    "                ID = 10*ID+2\n",
    "                xmin,ymin = xc,yc\n",
    "                xc,yc = xc+(xmax-xmin)/2,yc+(ymax-ymin)/2\n",
    "            elif (xp < xc and yp < yc):                              # Portail est dans la zone inferieure gauche\n",
    "                ID = 10*ID+3\n",
    "                xmax,ymax = xc,yc\n",
    "                xc,yc = xc-(xmax-xmin)/2,yc-(ymax-ymin)/2\n",
    "            elif (xp >= xc and yp <= yc):                            # Portail est dans la zone inferieure droite\n",
    "                ID = 10*ID+4\n",
    "                xmin,ymax = xc,yc\n",
    "                xc,yc = xc+(xmax-xmin)/2,yc-(ymax-ymin)/2\n",
    "        return ID"
   ]
  },
  {
   "cell_type": "code",
   "execution_count": 3,
   "metadata": {
    "collapsed": false
   },
   "outputs": [
    {
     "data": {
      "text/plain": [
       "[33, 31, 13, 11, 34, 32, 14, 12, 43, 41, 23, 21, 44, 42, 24, 22, -1]"
      ]
     },
     "execution_count": 3,
     "metadata": {},
     "output_type": "execute_result"
    }
   ],
   "source": [
    "# Test dichotomie2D\n",
    "\n",
    "xmin,xmax,ymin,ymax = 0,4,0,4\n",
    "precision = 1\n",
    "portails = [[i+0.5,j+0.5] for i in range(4) for j in range(4)]\n",
    "portails.append([0,7])\n",
    "\n",
    "[dichotomie2D(xmin,xmax,ymin,ymax,precision,p) for p in portails]"
   ]
  },
  {
   "cell_type": "code",
   "execution_count": 4,
   "metadata": {
    "collapsed": false
   },
   "outputs": [],
   "source": [
    "# Conversion de la latitude, longitude en coordonnées cartésiennes\n",
    "\n",
    "# La fonction prend en entree latitude et longitude d'un point de référence (l'origine de notre repère) ainsi que la\n",
    "# latitude et la longitude du point qui nous interesse.\n",
    "# En sortie on obtient les coordonnees (x,y) de ce point par rapport à l'origine en entrée.\n",
    "# on utilise la formule \"Haversine\"\n",
    "\n",
    "# Rq: la latitude correspond au y et la longitude au x du repere cartesien.\n",
    "\n",
    "def degreToRad(deg):\n",
    "    return deg*m.pi/180\n",
    "\n",
    "def conversion(origin_lat,origin_long,latitude,longitude):\n",
    "    origin_lat,origin_long = degreToRad(origin_lat),degreToRad(origin_long) \n",
    "    latitude, longitude = degreToRad(latitude),degreToRad(longitude) \n",
    "    dlat = latitude-origin_lat\n",
    "    dlong = longitude-origin_long\n",
    "    a = m.sin(dlat/2)**2 + m.cos(origin_lat)*m.cos(latitude)*m.sin(dlong/2)**2\n",
    "    c = 2*m.asin(a**(0.5))\n",
    "    radius = 6371   #rayon de la Terre en km\n",
    "    if (latitude < origin_lat or longitude < origin_long):  #certaines distances sont negatives\n",
    "        return -c*radius\n",
    "    return c*radius\n"
   ]
  },
  {
   "cell_type": "code",
   "execution_count": 5,
   "metadata": {
    "collapsed": false
   },
   "outputs": [],
   "source": [
    "# ajout de l'id geographique dans le fichier ficIn\n",
    "\n",
    "\n",
    "# La fonction prend en entree le fichier dans lequel il faut ajouter l'id, les coordonnees GPS du point origine,\n",
    "# les coordonnees GPS extremes en x et en y, la precision (en km).\n",
    "\n",
    "fichier_a_lire = 'portails.csv'\n",
    "\n",
    "def id_geographique(fichier, o_lat,o_lon,x_lon,y_lat,precision):\n",
    "    xmin = 0\n",
    "    xmax = conversion(o_lat,o_lon,o_lat,x_lon)\n",
    "    ymin = 0\n",
    "    ymax = conversion(o_lat,o_lon,y_lat,o_lon)\n",
    "    with open(fichier,'w') as fic:\n",
    "        with open(fichier_a_lire, 'r') as to_read:\n",
    "            csv_reader = csv.reader(to_read, delimiter = ';')\n",
    "            csv_writer = csv.writer(fic, delimiter = ';')\n",
    "            for line in csv_reader:          \n",
    "                portal = line[0].split(',')                            # portal[lat,lon]\n",
    "                x,y = conversion(o_lat,o_lon,o_lat,float(portal[1])),conversion(o_lat,o_lon,float(portal[0]),o_lon)\n",
    "                portal[0],portal[1] = x,y                              # portal[x,y]\n",
    "                ID = dichotomie2D(xmin,xmax,ymin,ymax,precision,portal)\n",
    "                csv_writer.writerow(line + [ID])"
   ]
  },
  {
   "cell_type": "code",
   "execution_count": 10,
   "metadata": {
    "collapsed": false
   },
   "outputs": [],
   "source": [
    "# Generation d'un fichier test\n",
    "\n",
    "ficIn = \"./portails.csv\"\n",
    "ficOut = \"./test_id.csv\"\n",
    "\n",
    "with open(ficIn, 'r') as ficIn:\n",
    "    with open(ficOut, 'w') as ficOut:\n",
    "        csv_reader = csv.reader(ficIn, delimiter = ';')\n",
    "        csv_writer = csv.writer(ficOut, delimiter = ';')\n",
    "        k = 1000\n",
    "        for line in csv_reader:\n",
    "            csv_writer.writerow(line)\n",
    "            if (k==1):\n",
    "                break\n",
    "            k -= 1\n"
   ]
  },
  {
   "cell_type": "code",
   "execution_count": 6,
   "metadata": {
    "collapsed": true
   },
   "outputs": [],
   "source": [
    "id_geographique('portails_IdGeo.csv',42.0, -5.0,8.0,52.0,1)  # on créé des zones de 1km² sur la France"
   ]
  },
  {
   "cell_type": "code",
   "execution_count": 7,
   "metadata": {
    "collapsed": false
   },
   "outputs": [
    {
     "data": {
      "text/plain": [
       "[('47.08086,8.44014', 120667),\n",
       " ('48.848808,2.33406', 121),\n",
       " ('48.855337,2.334582', 116),\n",
       " ('48.863091,2.332792', 113),\n",
       " ('48.863962,2.334041', 113),\n",
       " ('43.608302,3.879953', 111),\n",
       " ('48.847562,2.339874', 111),\n",
       " ('48.855786,2.356904', 109),\n",
       " ('48.841739,2.356926', 109),\n",
       " ('48.856031,2.360465', 105),\n",
       " ('48.850733,2.347394', 103),\n",
       " ('48.86329,2.390619', 100),\n",
       " ('48.804115,2.122475', 99),\n",
       " ('48.852452,2.341336', 97),\n",
       " ('43.614604,3.878411', 97),\n",
       " ('45.76766,4.833457', 95),\n",
       " ('46.94848,7.448279', 93),\n",
       " ('43.948286,4.808186', 92),\n",
       " ('48.811752,2.384771', 91),\n",
       " ('48.859643,2.351592', 89),\n",
       " ('48.838187,2.34945', 89),\n",
       " ('47.215753,-1.556077', 89),\n",
       " ('45.193031,5.72849', 88),\n",
       " ('48.859213,2.391586', 87),\n",
       " ('46.950787,7.440888', 87),\n",
       " ('48.868631,2.335426', 86),\n",
       " ('45.761545,4.828395', 85),\n",
       " ('48.830311,2.346684', 85),\n",
       " ('48.86137,2.342418', 85),\n",
       " ('48.850399,2.327447', 84),\n",
       " ('48.870365,2.332799', 83),\n",
       " ('48.849672,2.349358', 83),\n",
       " ('48.869972,2.352322', 82),\n",
       " ('48.850661,2.332672', 81),\n",
       " ('43.94824,4.807708', 81),\n",
       " ('48.855118,2.360421', 80),\n",
       " ('48.869266,2.340694', 80),\n",
       " ('48.875279,2.313005', 79),\n",
       " ('42.698572,2.893465', 78),\n",
       " ('48.838691,2.332689', 78),\n",
       " ('48.008619,0.194901', 78),\n",
       " ('43.694427,7.279027', 77),\n",
       " ('48.860002,2.325105', 77),\n",
       " ('43.615722,3.874201', 77),\n",
       " ('45.066431,7.68299', 76),\n",
       " ('48.87143,2.774663', 76),\n",
       " ('48.865176,2.326554', 76),\n",
       " ('48.845403,2.346218', 76),\n",
       " ('48.862872,2.399988', 75),\n",
       " ('43.293978,5.379596', 74),\n",
       " ('48.871047,2.34502', 74),\n",
       " ('48.873511,2.38386', 73),\n",
       " ('48.845647,2.345566', 73),\n",
       " ('48.843273,2.363697', 73),\n",
       " ('48.863697,2.358494', 73),\n",
       " ('48.85984,2.333473', 72),\n",
       " ('48.862014,2.349279', 71),\n",
       " ('45.073173,7.677672', 71),\n",
       " ('48.86957,2.309427', 70),\n",
       " ('48.836038,2.324147', 70),\n",
       " ('48.869512,2.348452', 70),\n",
       " ('48.840444,2.362672', 69),\n",
       " ('48.893415,2.28789', 69),\n",
       " ('48.858397,2.343083', 69),\n",
       " ('43.696763,7.273961', 69),\n",
       " ('48.830338,2.353154', 68),\n",
       " ('48.834592,2.358103', 68),\n",
       " ('45.754947,4.829403', 68),\n",
       " ('45.76957,4.830097', 68),\n",
       " ('48.86609,2.32521', 67),\n",
       " ('48.842825,2.336925', 67),\n",
       " ('46.200898,6.144099', 66),\n",
       " ('48.865657,2.327775', 66),\n",
       " ('45.433881,4.387817', 65),\n",
       " ('48.871186,2.336074', 65),\n",
       " ('48.858945,2.404843', 65),\n",
       " ('48.801677,2.129803', 65),\n",
       " ('48.852532,2.352321', 65),\n",
       " ('48.866457,2.364406', 65),\n",
       " ('45.774629,4.833519', 64),\n",
       " ('43.311577,-1.90204', 64),\n",
       " ('48.895867,2.282451', 64),\n",
       " ('48.874734,2.324523', 64),\n",
       " ('43.675446,4.630976', 64),\n",
       " ('43.531757,5.450709', 64),\n",
       " ('48.893998,2.384134', 64),\n",
       " ('42.818416,-1.644076', 64),\n",
       " ('48.822438,2.345933', 64),\n",
       " ('45.760857,4.853563', 64),\n",
       " ('47.214808,-1.558121', 63),\n",
       " ('48.447765,1.484343', 63),\n",
       " ('48.876805,2.335144', 63),\n",
       " ('48.858323,2.328149', 63),\n",
       " ('47.469356,-0.55968', 63),\n",
       " ('43.603632,1.444631', 63),\n",
       " ('45.184706,5.714691', 63),\n",
       " ('48.82442,2.358266', 63),\n",
       " ('43.297695,5.371417', 62),\n",
       " ('48.876683,2.331202', 62),\n",
       " ('48.860536,2.352276', 62)]"
      ]
     },
     "execution_count": 7,
     "metadata": {},
     "output_type": "execute_result"
    }
   ],
   "source": [
    "# Visualisation des résultats\n",
    "    \n",
    "\n",
    "with open('portails_IdGeo.csv', 'r') as to_read:\n",
    "    csv_r = csv.reader(to_read, delimiter = ';')\n",
    "    nb_par_zone = {}\n",
    "    for line in csv_r:\n",
    "        zone = line[4][:]                       # la precision donne une zone de 1km² a chaque chiffre tronqué on multiplie par 4 la surface\n",
    "        if not zone in nb_par_zone:\n",
    "            nb_par_zone[zone] = (line[0], 1)\n",
    "        else:\n",
    "            nb_par_zone[zone] = (nb_par_zone[zone][0], nb_par_zone[zone][1]+1)\n",
    "\n",
    "temp = nb_par_zone.values()\n",
    "temp.sort(key=lambda zone : zone[1], reverse = True)\n",
    "temp[:100]"
   ]
  },
  {
   "cell_type": "code",
   "execution_count": 24,
   "metadata": {
    "collapsed": false
   },
   "outputs": [],
   "source": [
    "# Visualisation sur une carte (ne fonctionne pas pour le moment)\n",
    "\n",
    "img = cv2.imread('carte_paris.png')\n",
    "[w,h,p] = np.shape(img)\n",
    "\n",
    "def pxInParis():\n",
    "    nb_px = 0\n",
    "    for k in range(w):\n",
    "        for l in range(h):\n",
    "            if (img[k,l][0] != 132 and img[k,l][1] != 132 and img[k,l][2] != 132):\n",
    "                nb_px += 1\n",
    "    return nb_px\n",
    "\n",
    "nb_px = pxInParis()\n",
    "\n",
    "km_px = 105.4/nb_px\n",
    "km_px = m.sqrt(km_px)\n",
    "\n",
    "arc_de_triomphe = [48.873673, 2.295001]\n",
    "adt = [137,186]\n",
    "\n",
    "def gpsTopx(lat,lon):\n",
    "    dx = conversion(arc_de_triomphe[0],arc_de_triomphe[1],arc_de_triomphe[0],lon)\n",
    "    dy = conversion(arc_de_triomphe[0],arc_de_triomphe[1],lat,arc_de_triomphe[1])\n",
    "    px_x,px_y = dx//km_px,dy//km_px\n",
    "    return adt[0]+px_x,adt[1]-px_y\n",
    "\n",
    "def poids():\n",
    "    poids = np.zeros([w,h])\n",
    "    with open('portails.csv','r') as to_read:\n",
    "        csv_reader = csv.reader(to_read, delimiter = ';')\n",
    "        for line in csv_reader:\n",
    "            lat,lon = float(line[0].split(',')[0]),float(line[0].split(',')[1])\n",
    "            x,y = gpsTopx(lat,lon)\n",
    "            if (0<=x<w and 0<=y<h):\n",
    "                poids[x,y] += 1\n",
    "    return poids\n",
    "\n",
    "def zones():\n",
    "    weight = poids()\n",
    "    zones = np.ones([w,h])\n",
    "    for i in range(15):          # l'image fait 500*500px et 1km² = 33px*33px. On cree donc 500/33 = 15 zones par cote\n",
    "        for j in range(15):\n",
    "            current_zone = weight[33*i:33*(i+1),33*j:33*(j+1)]\n",
    "            n,p = np.shape(current_zone)[0],np.shape(current_zone)[1]\n",
    "            nb_portals = 0\n",
    "            for k in range(n):\n",
    "                for l in range(p):\n",
    "                    nb_portals += current_zone[k,l]\n",
    "            nb_portals*zones[33*i:33*(i+1),33*j:33*(j+1)]\n",
    "    return zones\n",
    "\n",
    "def portalToColour(nb):\n",
    "    if (nb<5):\n",
    "        return [0, 0, 50]\n",
    "    if (nb<10):\n",
    "        return [0, 0, 100]\n",
    "    if (nb<15): \n",
    "        return [0, 0, 150]\n",
    "    if (nb<20):\n",
    "        return [0, 0, 200]\n",
    "    return [0,0,250]\n",
    "\n",
    "def visualisation():\n",
    "    areas = zones()\n",
    "    for i in range(w):\n",
    "        for j in range(h):\n",
    "            if (img[i,j][0] <= 200 and img[i,j][1] <= 200 and img[i,j][2] <= 200):\n",
    "                img[i,j] = portalToColour(areas[i,j])\n",
    "    cv2.imwrite('visu.jpg', img)"
   ]
  },
  {
   "cell_type": "code",
   "execution_count": 10,
   "metadata": {
    "collapsed": false
   },
   "outputs": [
    {
     "name": "stderr",
     "output_type": "stream",
     "text": [
      "/cal/softs/anaconda/anaconda-2.0.1/lib/python2.7/site-packages/IPython/kernel/__main__.py:36: VisibleDeprecationWarning: using a non-integer number instead of an integer will result in an error in the future\n"
     ]
    }
   ],
   "source": [
    "poids = poids()\n"
   ]
  },
  {
   "cell_type": "code",
   "execution_count": 16,
   "metadata": {
    "collapsed": false
   },
   "outputs": [
    {
     "name": "stderr",
     "output_type": "stream",
     "text": [
      "/cal/softs/anaconda/anaconda-2.0.1/lib/python2.7/site-packages/IPython/kernel/__main__.py:36: VisibleDeprecationWarning: using a non-integer number instead of an integer will result in an error in the future\n"
     ]
    }
   ],
   "source": [
    "zones = zones()"
   ]
  },
  {
   "cell_type": "code",
   "execution_count": 25,
   "metadata": {
    "collapsed": false
   },
   "outputs": [
    {
     "name": "stderr",
     "output_type": "stream",
     "text": [
      "/cal/softs/anaconda/anaconda-2.0.1/lib/python2.7/site-packages/IPython/kernel/__main__.py:36: VisibleDeprecationWarning: using a non-integer number instead of an integer will result in an error in the future\n"
     ]
    }
   ],
   "source": [
    "visualisation()"
   ]
  },
  {
   "cell_type": "code",
   "execution_count": null,
   "metadata": {
    "collapsed": true
   },
   "outputs": [],
   "source": []
  }
 ],
 "metadata": {
  "kernelspec": {
   "display_name": "Python 2",
   "language": "python",
   "name": "python2"
  },
  "language_info": {
   "codemirror_mode": {
    "name": "ipython",
    "version": 2
   },
   "file_extension": ".py",
   "mimetype": "text/x-python",
   "name": "python",
   "nbconvert_exporter": "python",
   "pygments_lexer": "ipython2",
   "version": "2.7.12"
  }
 },
 "nbformat": 4,
 "nbformat_minor": 0
}
